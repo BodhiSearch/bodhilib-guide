{
 "cells": [
  {
   "cell_type": "markdown",
   "metadata": {},
   "source": [
    "# BodhiEngine\n",
    "\n",
    "BodhiEngine allows you to encapsulate the Semantic Search stack composing various LLM components.\n",
    "\n",
    "This is currently in WIP."
   ]
  }
 ],
 "metadata": {
  "kernelspec": {
   "display_name": "bodhilib-guide",
   "language": "python",
   "name": "python3"
  },
  "language_info": {
   "codemirror_mode": {
    "name": "ipython",
    "version": 3
   },
   "file_extension": ".py",
   "mimetype": "text/x-python",
   "name": "python",
   "nbconvert_exporter": "python",
   "pygments_lexer": "ipython3",
   "version": "3.11.5"
  },
  "orig_nbformat": 4
 },
 "nbformat": 4,
 "nbformat_minor": 2
}
