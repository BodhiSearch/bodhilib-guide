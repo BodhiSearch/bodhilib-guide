{
 "cells": [
  {
   "cell_type": "markdown",
   "metadata": {},
   "source": [
    "# BodhiProxy\n",
    "\n",
    "BodhiProxy allows you to launch a proxy server using `bodhilib` library. This allows for a uniform interface to interact with various LLMs and LLM components using a unified interface.\n",
    "\n",
    "This is currently WIP."
   ]
  }
 ],
 "metadata": {
  "language_info": {
   "name": "python"
  },
  "orig_nbformat": 4
 },
 "nbformat": 4,
 "nbformat_minor": 2
}
