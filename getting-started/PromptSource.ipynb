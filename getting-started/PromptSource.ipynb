{
 "cells": [
  {
   "cell_type": "markdown",
   "metadata": {},
   "source": [
    "# PromptSource\n",
    "\n",
    "Prompt source is used to browse and discover the prompts that fit your use case.\n",
    "\n",
    "For e.g. we want to classify emails using Eisenhower matrix - Now, Later, Delegate, Delete. We want to use few-shot prompting template to classify these emails, and want to provide a few examples that help the LLM classify them in these categories.\n",
    "\n",
    "Let's see how `PromptSource` can help us find the right template for our use case."
   ]
  },
  {
   "cell_type": "code",
   "execution_count": 1,
   "metadata": {},
   "outputs": [],
   "source": [
    "# import PromptSource\n",
    "\n",
    "from bodhilib import get_prompt_source"
   ]
  },
  {
   "cell_type": "code",
   "execution_count": 2,
   "metadata": {},
   "outputs": [],
   "source": [
    "# Get an instance of prompt source\n",
    "prompt_source = get_prompt_source('local_dir_prompt_source', publisher=\"bodhiext\")"
   ]
  },
  {
   "cell_type": "code",
   "execution_count": 3,
   "metadata": {},
   "outputs": [
    {
     "name": "stdout",
     "output_type": "stream",
     "text": [
      "role: user\n",
      "source: input\n",
      "inputs: examples: List[('text': str, 'sentiment': str)], text: str\n",
      "text: Classify the text below in positive, negative or neutral sentiment.\n",
      "{% for example in examples -%}\n",
      "text: {{ example['text']}}\n",
      "sentiment: {{ example['sentiment']}}\n",
      "{% endfor %}\n",
      "text: {text}\n",
      "sentiment:\n",
      "\n",
      "role: user\n",
      "source: input\n",
      "inputs: examples: List[('text': str, 'category': str)], text: str, categories: List[str]\n",
      "text: Classify the text below in one of the categories: {% \",\".join(categories) %}.\n",
      "{% for example in examples -%}\n",
      "text: {{ example['text']}}\n",
      "category: {{ example['category']}}\n",
      "{% endfor %}\n",
      "text: {text}\n",
      "category:\n",
      "\n",
      "role: user\n",
      "source: input\n",
      "text: Classify the text below in positive, negative or neutral sentiment.\n",
      "{% for example in examples -%}\n",
      "text: {{ example['text']}}\n",
      "sentiment: {{ example['sentiment']}}\n",
      "{% endfor %}\n",
      "text: {text}\n",
      "sentiment:\n",
      "\n",
      "role: user\n",
      "source: input\n",
      "text: Classify the text below in one of the categories: {% \",\".join(categories) %}.\n",
      "{% for example in examples -%}\n",
      "text: {{ example['text']}}\n",
      "category: {{ example['category']}}\n",
      "{% endfor %}\n",
      "text: {text}\n",
      "category:\n",
      "\n"
     ]
    }
   ],
   "source": [
    "# find all templates with tag 'few-shot'\n",
    "templates = prompt_source.find(tags=['few-shot'])\n",
    "print(\"\\n\".join([template.template for template in templates]))"
   ]
  },
  {
   "cell_type": "code",
   "execution_count": 4,
   "metadata": {},
   "outputs": [
    {
     "data": {
      "text/plain": [
       "[PromptTemplate(id=None, template=\"role: user\\nsource: input\\ninputs: examples: List[('text': str, 'sentiment': str)], text: str\\ntext: Classify the text below in positive, negative or neutral sentiment.\\n{% for example in examples -%}\\ntext: {{ example['text']}}\\nsentiment: {{ example['sentiment']}}\\n{% endfor %}\\ntext: {text}\\nsentiment:\\n\", role=<Role.USER: 'user'>, source=<Source.INPUT: 'input'>, format='bodhilib-fstring', metadata={'tags': ['few-shot', 'text-classification', 'sentiment'], 'format': 'bodhilib-jinja2'}, extras={}),\n",
       " PromptTemplate(id=None, template='role: user\\nsource: input\\ninputs: examples: List[(\\'text\\': str, \\'category\\': str)], text: str, categories: List[str]\\ntext: Classify the text below in one of the categories: {% \",\".join(categories) %}.\\n{% for example in examples -%}\\ntext: {{ example[\\'text\\']}}\\ncategory: {{ example[\\'category\\']}}\\n{% endfor %}\\ntext: {text}\\ncategory:\\n', role=<Role.USER: 'user'>, source=<Source.INPUT: 'input'>, format='bodhilib-fstring', metadata={'tags': ['few-shot', 'classification', 'custom-category'], 'format': 'bodhilib-jinja2'}, extras={}),\n",
       " PromptTemplate(id=None, template='role: user\\nsource: input\\ntext: Classify the text below in positive, negative or neutral sentiment.\\n{text}\\n', role=<Role.USER: 'user'>, source=<Source.INPUT: 'input'>, format='bodhilib-fstring', metadata={'tags': ['zero-shot', 'text-classification', 'sentiment']}, extras={}),\n",
       " PromptTemplate(id=None, template='role: user\\nsource: input\\ntext: Classify the text below in positive, negative or neutral sentiment.\\n{text}\\n', role=<Role.USER: 'user'>, source=<Source.INPUT: 'input'>, format='bodhilib-fstring', metadata={'tags': ['zero-shot', 'text-classification', 'sentiment']}, extras={}),\n",
       " PromptTemplate(id=None, template=\"role: user\\nsource: input\\ntext: Classify the text below in positive, negative or neutral sentiment.\\n{% for example in examples -%}\\ntext: {{ example['text']}}\\nsentiment: {{ example['sentiment']}}\\n{% endfor %}\\ntext: {text}\\nsentiment:\\n\", role=<Role.USER: 'user'>, source=<Source.INPUT: 'input'>, format='bodhilib-fstring', metadata={'tags': ['few-shot', 'text-classification', 'sentiment'], 'format': 'bodhilib-jinja2'}, extras={}),\n",
       " PromptTemplate(id=None, template='role: user\\nsource: input\\ntext: Classify the text below in one of the categories: {% \",\".join(categories) %}.\\n{% for example in examples -%}\\ntext: {{ example[\\'text\\']}}\\ncategory: {{ example[\\'category\\']}}\\n{% endfor %}\\ntext: {text}\\ncategory:\\n', role=<Role.USER: 'user'>, source=<Source.INPUT: 'input'>, format='bodhilib-fstring', metadata={'tags': ['few-shot', 'classification', 'custom-category'], 'format': 'bodhilib-jinja2'}, extras={})]"
      ]
     },
     "execution_count": 4,
     "metadata": {},
     "output_type": "execute_result"
    }
   ],
   "source": [
    "# list all templates in prompt source\n",
    "prompt_source.templates"
   ]
  },
  {
   "cell_type": "markdown",
   "metadata": {},
   "source": [
    "---\n",
    "\n",
    "🎉 Yay! we have so many prompt templates to chose from, and are able to find the one that works for us.\n",
    "\n",
    "Next, let's check out how to use [DataLoader](/data_loader/)"
   ]
  }
 ],
 "metadata": {
  "kernelspec": {
   "display_name": "sembodhi",
   "language": "python",
   "name": "python3"
  },
  "language_info": {
   "codemirror_mode": {
    "name": "ipython",
    "version": 3
   },
   "file_extension": ".py",
   "mimetype": "text/x-python",
   "name": "python",
   "nbconvert_exporter": "python",
   "pygments_lexer": "ipython3",
   "version": "3.10.8"
  },
  "orig_nbformat": 4
 },
 "nbformat": 4,
 "nbformat_minor": 2
}
