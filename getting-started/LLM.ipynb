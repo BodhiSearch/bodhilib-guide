{
 "cells": [
  {
   "cell_type": "markdown",
   "metadata": {},
   "source": [
    "# LLM\n",
    "\n",
    "LLM service is used to query a Large Language Model and generate response. \n",
    "\n",
    "To use the LLM service, we first get the service instance using `get_llm` method, passing it the LLM service identifier `service_name`, and the `model` we want to use. \n",
    "\n",
    "Then we invoke the `generate` method, passing it our `Prompt` to get a respose back as `Prompt`."
   ]
  },
  {
   "cell_type": "code",
   "execution_count": 1,
   "metadata": {},
   "outputs": [],
   "source": [
    "# ensure the bodhilib package is installed\n",
    "!pip install -q bodhilib\n",
    "\n",
    "# ensure the bodhiext package is installed\n",
    "# for the guide, we are installing all extensions, \n",
    "# but for production, you should only install the extensions you need\n",
    "# !pip install -q bodhiext.all"
   ]
  },
  {
   "cell_type": "code",
   "execution_count": 2,
   "metadata": {},
   "outputs": [],
   "source": [
    "# setup the environment variables\n",
    "# input your OpenAI API key when prompted\n",
    "\n",
    "import os\n",
    "from getpass import getpass\n",
    "\n",
    "if 'OPENAI_API_KEY' not in os.environ:\n",
    "    os.environ['OPENAI_API_KEY'] = getpass(\"Enter your OpenAI API key:\")"
   ]
  },
  {
   "cell_type": "code",
   "execution_count": 3,
   "metadata": {},
   "outputs": [],
   "source": [
    "# import the `get_llm` method from bodhilib package\n",
    "from bodhilib import get_llm"
   ]
  },
  {
   "cell_type": "code",
   "execution_count": 4,
   "metadata": {},
   "outputs": [],
   "source": [
    "# Get the service instance to OpenAI Chat LLM service using the model `gpt-3.5-turbo`\n",
    "\n",
    "llm = get_llm(\"openai_chat\", model=\"gpt-3.5-turbo\")"
   ]
  },
  {
   "cell_type": "code",
   "execution_count": 5,
   "metadata": {},
   "outputs": [
    {
     "name": "stdout",
     "output_type": "stream",
     "text": [
      "> Hello! I'm an AI developed by OpenAI called GPT-3. I don't have personal experiences or emotions, but I'm here to help\n",
      "with any questions or topics you'd like to discuss. I've been trained on a vast amount of text from the internet, so I\n",
      "can assist with various subjects. How can I assist you today?\n"
     ]
    }
   ],
   "source": [
    "# build the prompt using the `Prompt` class\n",
    "from bodhilib import Prompt\n",
    "prompt = Prompt(\"Hello, how are you doing today? Can you tell me more about yourself?\")\n",
    "\n",
    "# Generate a response from the LLM service using the `generate` method\n",
    "response = llm.generate(prompt)\n",
    "\n",
    "# Let's print the response\n",
    "import textwrap\n",
    "print(\">\", textwrap.fill(response.text, 120))"
   ]
  },
  {
   "cell_type": "markdown",
   "metadata": {},
   "source": [
    "---\n",
    "\n",
    "🎉 We just generated our first response from LLM using bodhilib.\n",
    "\n",
    "Next, let's see how to generate a streaming response from the LLM APIs."
   ]
  }
 ],
 "metadata": {
  "kernelspec": {
   "display_name": "bodhi-guide",
   "language": "python",
   "name": "python3"
  },
  "language_info": {
   "codemirror_mode": {
    "name": "ipython",
    "version": 3
   },
   "file_extension": ".py",
   "mimetype": "text/x-python",
   "name": "python",
   "nbconvert_exporter": "python",
   "pygments_lexer": "ipython3",
   "version": "3.11.5"
  },
  "orig_nbformat": 4
 },
 "nbformat": 4,
 "nbformat_minor": 2
}
