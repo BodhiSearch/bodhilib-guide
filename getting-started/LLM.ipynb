{
 "cells": [
  {
   "cell_type": "markdown",
   "metadata": {},
   "source": [
    "# LLM\n",
    "\n",
    "The LLM component/service is used to query a Large Language Model (LLM) and generate a response.\n",
    "\n",
    "To use the LLM service, we first obtain the service instance using the `get_llm` method, passing it the LLM service identifier `service_name`, and specifying the model we want to use with the `model` parameter.\n",
    "\n",
    "Then, we invoke the `generate` method, passing it our `Prompt` to receive a response back, also represented as a `Prompt`.\n",
    "\n",
    "Let's try it out."
   ]
  },
  {
   "cell_type": "markdown",
   "metadata": {},
   "source": [
    "## Setup\n",
    "\n",
    "1. Ensure bodhilib is installed.\n",
    "1. Ensure `bodhiext` package for openai is installed"
   ]
  },
  {
   "cell_type": "code",
   "execution_count": 1,
   "metadata": {},
   "outputs": [],
   "source": [
    "!pip install -q bodhilib bodhiext.openai"
   ]
  },
  {
   "cell_type": "code",
   "execution_count": 3,
   "metadata": {},
   "outputs": [],
   "source": [
    "# setup the environment variables\n",
    "# input your OpenAI API key when prompted\n",
    "\n",
    "import os\n",
    "from getpass import getpass\n",
    "from dotenv import load_dotenv\n",
    "\n",
    "load_dotenv()\n",
    "if \"OPENAI_API_KEY\" not in os.environ:\n",
    "    os.environ[\"OPENAI_API_KEY\"] = getpass(\"Enter your OpenAI API key:\")"
   ]
  },
  {
   "cell_type": "code",
   "execution_count": 4,
   "metadata": {},
   "outputs": [],
   "source": [
    "# import the `get_llm` method from bodhilib package\n",
    "from bodhilib import get_llm"
   ]
  },
  {
   "cell_type": "code",
   "execution_count": 5,
   "metadata": {},
   "outputs": [],
   "source": [
    "# Get the service instance to OpenAI Chat LLM service using the model `gpt-3.5-turbo`\n",
    "\n",
    "llm = get_llm(\"openai_chat\", model=\"gpt-3.5-turbo\")"
   ]
  },
  {
   "cell_type": "code",
   "execution_count": 6,
   "metadata": {},
   "outputs": [
    {
     "name": "stdout",
     "output_type": "stream",
     "text": [
      "> Hello! I'm an AI language model developed by OpenAI called GPT-3. Although I don't have personal\n",
      "experiences or emotions, I'm here to assist you with any questions or tasks you might have. My\n",
      "purpose is to generate human-like text based on the prompts given to me. Is there something specific\n",
      "you would like to know or discuss? I'm here to help!\n"
     ]
    }
   ],
   "source": [
    "# build the prompt using the `Prompt` class\n",
    "from bodhilib import Prompt\n",
    "prompt = Prompt(\"Hello, how are you doing today? Can you tell me more about yourself?\")\n",
    "\n",
    "# Generate a response from the LLM service using the `generate` method\n",
    "response = llm.generate(prompt)\n",
    "\n",
    "# Let's print the response\n",
    "import textwrap\n",
    "print(\">\", textwrap.fill(response.text, 100))"
   ]
  },
  {
   "cell_type": "markdown",
   "metadata": {},
   "source": [
    "---\n",
    "\n",
    "🎉 We just generated our first response from LLM using bodhilib.\n",
    "\n",
    "Next, let’s explore how to generate a streaming response from the LLM APIs using [PromptStream](PromptStream.ipynb).\n"
   ]
  }
 ],
 "metadata": {
  "kernelspec": {
   "display_name": "bodhi-guide",
   "language": "python",
   "name": "python3"
  },
  "language_info": {
   "codemirror_mode": {
    "name": "ipython",
    "version": 3
   },
   "file_extension": ".py",
   "mimetype": "text/x-python",
   "name": "python",
   "nbconvert_exporter": "python",
   "pygments_lexer": "ipython3",
   "version": "3.11.5"
  },
  "orig_nbformat": 4
 },
 "nbformat": 4,
 "nbformat_minor": 2
}
