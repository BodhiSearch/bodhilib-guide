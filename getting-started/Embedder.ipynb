{
 "cells": [
  {
   "cell_type": "markdown",
   "metadata": {},
   "source": [
    "# Embedder\n",
    "\n",
    "Embedder service embeds a text into its vector representation. This allows us to search for similar text using vector search.\n",
    "\n",
    "To convert a text into its embedding, we first get an instance of `Embedder` using `get_embedder` method, passing it the Embedder service identifier `service_name`.\n",
    "\n",
    "Then, we invoke the `embed` method, passing it a list of `Node` to enrich the nodes with its embeddings.\n",
    "\n",
    "Let's try it out."
   ]
  },
  {
   "cell_type": "markdown",
   "metadata": {},
   "source": [
    "## Setup\n",
    "\n",
    "1. Ensure bodhilib is installed.\n",
    "2. We are going to use `setence_transformers` embedder for embedding the data. Ensure the `bodhiext.sentence_transformers` plugin is installed as well."
   ]
  },
  {
   "cell_type": "code",
   "execution_count": 1,
   "metadata": {},
   "outputs": [],
   "source": [
    "!pip install -q bodhilib bodhiext.sentence_transformers"
   ]
  },
  {
   "cell_type": "code",
   "execution_count": 2,
   "metadata": {},
   "outputs": [],
   "source": [
    "# Load the Paul Graham essays from data/data-loader directory using `file` DataLoader\n",
    "# And then convert it into Nodes using sentence_splitter\n",
    "import os\n",
    "from pathlib import Path\n",
    "from bodhilib import get_data_loader, get_splitter\n",
    "\n",
    "# Get data directory path and add it to data_loader\n",
    "current_dir = current_working_directory = Path(os.getcwd())\n",
    "data_dir = current_dir / \"..\" / \"data\" / \"data-loader\"\n",
    "data_loader = get_data_loader('file')\n",
    "data_loader.add_resource(dir=str(data_dir))\n",
    "docs = data_loader.load()\n",
    "splitter = get_splitter(\"text_splitter\", max_len=300, overlap=30)\n",
    "nodes = splitter.split(docs)"
   ]
  },
  {
   "cell_type": "code",
   "execution_count": 3,
   "metadata": {},
   "outputs": [],
   "source": [
    "# Get instance of Embedder\n",
    "\n",
    "from bodhilib import get_embedder\n",
    "\n",
    "embedder = get_embedder(\"sentence_transformers\")"
   ]
  },
  {
   "cell_type": "code",
   "execution_count": 4,
   "metadata": {},
   "outputs": [],
   "source": [
    "# Enrich the nodes with embeddings\n",
    "\n",
    "_ = embedder.embed(nodes)"
   ]
  },
  {
   "cell_type": "code",
   "execution_count": 5,
   "metadata": {},
   "outputs": [
    {
     "name": "stdout",
     "output_type": "stream",
     "text": [
      "[-0.046271130442619324, -0.0969996377825737, 0.09419207274913788, 0.014190234243869781, 0.02280914969742298, -0.01539283711463213, ...]\n"
     ]
    }
   ],
   "source": [
    "import reprlib\n",
    "# analyze nodes to see if they are enriched with embeddings\n",
    "print(reprlib.repr(nodes[0].embedding))"
   ]
  },
  {
   "cell_type": "markdown",
   "metadata": {},
   "source": [
    "---\n",
    "🎉 We just created the vector embeddings for our nodes.\n",
    "\n",
    "Next, let’s see how to insert these embeddings into [VectorDB](VectorDB.ipynb)."
   ]
  }
 ],
 "metadata": {
  "kernelspec": {
   "display_name": "bodhilib-guide",
   "language": "python",
   "name": "python3"
  },
  "language_info": {
   "codemirror_mode": {
    "name": "ipython",
    "version": 3
   },
   "file_extension": ".py",
   "mimetype": "text/x-python",
   "name": "python",
   "nbconvert_exporter": "python",
   "pygments_lexer": "ipython3",
   "version": "3.11.5"
  },
  "orig_nbformat": 4
 },
 "nbformat": 4,
 "nbformat_minor": 2
}
