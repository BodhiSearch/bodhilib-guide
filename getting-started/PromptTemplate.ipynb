{
 "cells": [
  {
   "cell_type": "markdown",
   "metadata": {},
   "source": [
    "# PromptTemplate\n",
    "\n",
    "PromptTemplate is used to generate dynamic prompts by injecting variables at runtime and creating parameterized prompts.\n",
    "\n",
    "Bodhilib supports 2 ways of injecting variables using PromptTemplate -\n",
    "\n",
    "1. **fstring**\n",
    "\n",
    "    [fstring](https://peps.python.org/pep-0498/) uses the python's native string interpolation features to inject named variables. \n",
    "    \n",
    "    In `fstring`, you define your named variable using single curly braces, `{` and `}`, and during variable injection, the value is replaced by the variable value passed at runtime.\n",
    "    \n",
    "    For e.g. for a fstring template - \"The {movie} is the best super-hero movie ever.\". At runtime, the `{movie}` is going to be replaced by the value of variable `movie` and produce a dynamic string to be used as prompt.\n",
    "\n",
    "2. **jinja2**\n",
    "\n",
    "    Though powerful, `fstring` is limited in its features. It cannot have `for-loops`, `if-else conditionals` etc. To overcome these limitations, bodhilib also supports [jinja2](https://palletsprojects.com/p/jinja/) as a templating engine.\n",
    "\n",
    "    In `jinja2` format, you define your prompt template using the [jinja2 format](https://palletsprojects.com/p/jinja/), and then these templates are safely injected with variables at runtime to produce the dynamic prompt.\n",
    "\n",
    "\n",
    "While creating the PromptTemplate, you specify which format you want to use using the `format` parameter. Then PromptTemplate uses that templating engine to inject variables and generate the Prompt.\n",
    "\n",
    "Let's try it out."
   ]
  },
  {
   "cell_type": "code",
   "execution_count": 1,
   "metadata": {},
   "outputs": [],
   "source": [
    "# import PromptTemplate class\n",
    "\n",
    "from bodhilib import PromptTemplate"
   ]
  },
  {
   "cell_type": "code",
   "execution_count": 2,
   "metadata": {},
   "outputs": [],
   "source": [
    "# create the template using fstring format\n",
    "\n",
    "template = PromptTemplate(\n",
    "    template=\"The {movie} is the best super-hero movie of all times. Do you agree?\",\n",
    "    format=\"fstring\",\n",
    ")"
   ]
  },
  {
   "cell_type": "code",
   "execution_count": 3,
   "metadata": {},
   "outputs": [
    {
     "name": "stdout",
     "output_type": "stream",
     "text": [
      "> [Prompt(text='The Avengers: End Game is the best super-hero movie of all times. Do you agree?', role=<Role.USER: 'user'>, source=<Source.INPUT: 'input'>)]\n",
      "> [Prompt(text='The Justice League is the best super-hero movie of all times. Do you agree?', role=<Role.USER: 'user'>, source=<Source.INPUT: 'input'>)]\n",
      "> [Prompt(text='The The Dark Knight is the best super-hero movie of all times. Do you agree?', role=<Role.USER: 'user'>, source=<Source.INPUT: 'input'>)]\n"
     ]
    }
   ],
   "source": [
    "options = [\"Avengers: End Game\", \"Justice League\", \"The Dark Knight\"]\n",
    "\n",
    "# Use the PromptTemplate `to_prompts` method to generate the prompts\n",
    "for option in options:\n",
    "    print(\">\", template.to_prompts(movie=option))"
   ]
  },
  {
   "cell_type": "markdown",
   "metadata": {},
   "source": [
    "Let's pass these prompts to llm and see what it thinks:"
   ]
  },
  {
   "cell_type": "code",
   "execution_count": 4,
   "metadata": {},
   "outputs": [],
   "source": [
    "# setup the environment variables\n",
    "# input your OpenAI API key when prompted\n",
    "\n",
    "import os\n",
    "from getpass import getpass\n",
    "\n",
    "if 'OPENAI_API_KEY' not in os.environ:\n",
    "    os.environ['OPENAI_API_KEY'] = getpass('Enter your API key: ')"
   ]
  },
  {
   "cell_type": "code",
   "execution_count": 5,
   "metadata": {},
   "outputs": [],
   "source": [
    "# Get instance of OpenAI Chat LLM service\n",
    "from bodhilib import get_llm\n",
    "\n",
    "llm = get_llm(\"openai_chat\", model=\"gpt-3.5-turbo\")"
   ]
  },
  {
   "cell_type": "code",
   "execution_count": 6,
   "metadata": {},
   "outputs": [
    {
     "name": "stdout",
     "output_type": "stream",
     "text": [
      "> The Avengers: End Game is the best super-hero movie of all times. Do you agree?\n",
      "\n",
      "As an AI language model, I don't have personal opinions. However, \"Avengers: Endgame\" is often considered one of the\n",
      "best superhero movies based on popular opinion and box office success. It received positive reviews and achieved great\n",
      "commercial success, breaking numerous records at the time of its release. However, the notion of the \"best\" superhero\n",
      "movie can differ depending on individual preferences and subjective opinions. There are many other superhero movies that\n",
      "have also garnered critical acclaim and have a dedicated fan base. Ultimately, the best superhero movie is a matter of\n",
      "personal taste.\n",
      "---\n",
      "> The Justice League is the best super-hero movie of all times. Do you agree?\n",
      "\n",
      "As an AI, I don't have personal opinions or preferences. However, opinions on the best superhero movie can vary among\n",
      "individuals. The Justice League movie has its fans and critics, and different people have different preferences when it\n",
      "comes to superhero films. Some may have different favorites, such as The Dark Knight, Avengers: Endgame, or Spider-Man:\n",
      "Into the Spider-Verse. Ultimately, it depends on individual taste and perspective.\n",
      "---\n",
      "> The The Dark Knight is the best super-hero movie of all times. Do you agree?\n",
      "\n",
      "As an AI language model, I don't have personal opinions or preferences. However, \"The Dark Knight\" is often regarded as\n",
      "one of the best superhero movies of all time by both critics and audiences, receiving critical acclaim for its\n",
      "screenplay, performances, and direction. It is famous for its complex characters, intense atmosphere, and thought-\n",
      "provoking themes. However, opinions on the best superhero movie can vary depending on individual tastes and preferences.\n",
      "---\n"
     ]
    }
   ],
   "source": [
    "import textwrap\n",
    "\n",
    "# Use the PromptTemplate `to_prompts` method to generate the prompts\n",
    "for option in options:\n",
    "    prompts = template.to_prompts(movie=option)\n",
    "    response = llm.generate(prompts)\n",
    "    print(f\"> {prompts[0].text}\\n\")\n",
    "    print(textwrap.fill(response.text, 100))\n",
    "    print(\"---\")"
   ]
  },
  {
   "cell_type": "markdown",
   "metadata": {},
   "source": [
    "---\n",
    "\n",
    "🎉 We just generated response from LLM using our dynamically generated prompts using PromptTemplate.\n",
    "\n",
    "Next, let's look at generating a more complex prompt that involves looping through options to generate a Prompt. We will use `jinja2` format to create this complex prompt."
   ]
  },
  {
   "cell_type": "code",
   "execution_count": 7,
   "metadata": {},
   "outputs": [],
   "source": [
    "template = \"\"\"\n",
    "Which is the best super-hero movie of all times from among the options below? and why?\n",
    "\n",
    "{% for option in options -%}\n",
    "{{ loop.index }}. {{ option }}\n",
    "{% endfor -%}\n",
    "\"\"\"\n",
    "template = PromptTemplate(template=template, format=\"jinja2\")"
   ]
  },
  {
   "cell_type": "code",
   "execution_count": 8,
   "metadata": {},
   "outputs": [
    {
     "name": "stdout",
     "output_type": "stream",
     "text": [
      "\n",
      "Which is the best super-hero movie of all times from among the options below? and why?\n",
      "\n",
      "1. Avengers: End Game\n",
      "2. Justice League\n",
      "3. The Dark Knight\n",
      "\n"
     ]
    }
   ],
   "source": [
    "prompts = template.to_prompts(options=options)\n",
    "print(prompts[0].text)"
   ]
  },
  {
   "cell_type": "markdown",
   "metadata": {},
   "source": [
    "Let's see what our LLM model thinks about the above. Let's pass the prompts to LLM service and get the response."
   ]
  },
  {
   "cell_type": "code",
   "execution_count": 9,
   "metadata": {},
   "outputs": [
    {
     "name": "stdout",
     "output_type": "stream",
     "text": [
      "As an AI language model, I don't have personal opinions. However, based on critical reception and popular opinion, \"The\n",
      "Dark Knight\" is often regarded as one of the best superhero movies of all time. It is praised for its dark and gritty\n",
      "tone, compelling storyline, exceptional performances (including Heath Ledger's portrayal of the Joker), and its\n",
      "exploration of complex themes. \"The Dark Knight\" has received widespread acclaim for its direction, writing, and\n",
      "cinematography, making it a standout among superhero films.\n"
     ]
    }
   ],
   "source": [
    "import textwrap\n",
    "\n",
    "response = llm.generate(prompts)\n",
    "print(textwrap.fill(response.text, 100))"
   ]
  },
  {
   "cell_type": "markdown",
   "metadata": {},
   "source": [
    "---\n",
    "\n",
    "🎉 Yay! we have our our first response from LLM using a complex dynamic prompt generated using `jinja2` template.\n",
    "\n",
    "Next, we look at `PromptSource` and finding the right prompt for our use case."
   ]
  }
 ],
 "metadata": {
  "kernelspec": {
   "display_name": "bodhi-guide",
   "language": "python",
   "name": "python3"
  },
  "language_info": {
   "codemirror_mode": {
    "name": "ipython",
    "version": 3
   },
   "file_extension": ".py",
   "mimetype": "text/x-python",
   "name": "python",
   "nbconvert_exporter": "python",
   "pygments_lexer": "ipython3",
   "version": "3.11.5"
  },
  "orig_nbformat": 4
 },
 "nbformat": 4,
 "nbformat_minor": 2
}
