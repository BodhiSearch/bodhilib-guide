{
 "cells": [
  {
   "cell_type": "markdown",
   "metadata": {},
   "source": [
    "# PromptTemplate\n",
    "\n",
    "PromptTemplate is used to generate dynamic prompts by injecting variables at runtime and creating parameterized prompts.\n",
    "\n",
    "Bodhilib supports 2 ways of injecting variables using PromptTemplate -\n",
    "\n",
    "1. **fstring**\n",
    "\n",
    "    [fstring](https://peps.python.org/pep-0498/) uses the python's native string interpolation features to inject named variables. \n",
    "    \n",
    "    In `fstring`, you define your named variable using single curly braces, `{` and `}`, and during variable injection, the value is replaced by the variable value passed at runtime.\n",
    "    \n",
    "    For e.g. for a fstring template - \"The {movie} is the best super-hero movie ever.\". At runtime, the `{movie}` is going to be replaced by the value of variable `movie` and produce a dynamic string to be used as prompt.\n",
    "\n",
    "2. **jinja2**\n",
    "\n",
    "    Though powerful, `fstring` is limited in its features. It cannot have `for-loops`, `if-else conditionals` etc. To overcome these limitations, bodhilib also supports [jinja2](https://palletsprojects.com/p/jinja/) as a templating engine.\n",
    "\n",
    "    In `jinja2` format, you define your prompt template using the [jinja2 format](https://palletsprojects.com/p/jinja/), and then these templates are safely injected with variables at runtime to produce the dynamic prompt.\n",
    "\n",
    "\n",
    "While creating the PromptTemplate, you specify which format you want to use using the `format` parameter. Then PromptTemplate uses that templating engine to inject variables and generate the Prompt.\n",
    "\n",
    "Let's try it out."
   ]
  },
  {
   "cell_type": "markdown",
   "metadata": {},
   "source": [
    "## Setup\n",
    "\n",
    "1. Ensure bodhilib is installed, along with one of the LLM plugins."
   ]
  },
  {
   "cell_type": "code",
   "execution_count": 1,
   "metadata": {},
   "outputs": [],
   "source": [
    "!pip install -q bodhilib bodhiext.openai python-dotenv"
   ]
  },
  {
   "cell_type": "code",
   "execution_count": 2,
   "metadata": {},
   "outputs": [],
   "source": [
    "# import PromptTemplate class\n",
    "\n",
    "from bodhilib import PromptTemplate"
   ]
  },
  {
   "cell_type": "code",
   "execution_count": 3,
   "metadata": {},
   "outputs": [],
   "source": [
    "# create the template using fstring format\n",
    "\n",
    "template = PromptTemplate(\n",
    "    template=\"The {movie} is the best super-hero movie of all times. Do you agree?\",\n",
    "    format=\"fstring\",\n",
    ")"
   ]
  },
  {
   "cell_type": "code",
   "execution_count": 4,
   "metadata": {},
   "outputs": [
    {
     "name": "stdout",
     "output_type": "stream",
     "text": [
      "> [Prompt(text='The Avengers: End Game is the best super-hero movie of all times. Do you agree?', role=<Role.USER: 'user'>, source=<Source.INPUT: 'input'>)]\n",
      "> [Prompt(text='The Justice League is the best super-hero movie of all times. Do you agree?', role=<Role.USER: 'user'>, source=<Source.INPUT: 'input'>)]\n",
      "> [Prompt(text='The The Dark Knight is the best super-hero movie of all times. Do you agree?', role=<Role.USER: 'user'>, source=<Source.INPUT: 'input'>)]\n"
     ]
    }
   ],
   "source": [
    "options = [\"Avengers: End Game\", \"Justice League\", \"The Dark Knight\"]\n",
    "\n",
    "# Use the PromptTemplate `to_prompts` method to generate the prompts\n",
    "for option in options:\n",
    "    print(\">\", template.to_prompts(movie=option))"
   ]
  },
  {
   "cell_type": "markdown",
   "metadata": {},
   "source": [
    "Let's pass these prompts to llm and see what it thinks:"
   ]
  },
  {
   "cell_type": "code",
   "execution_count": 5,
   "metadata": {},
   "outputs": [],
   "source": [
    "# setup the environment variables\n",
    "# input your OpenAI API key when prompted\n",
    "\n",
    "import os\n",
    "from getpass import getpass\n",
    "from dotenv import load_dotenv\n",
    "\n",
    "load_dotenv()\n",
    "if \"OPENAI_API_KEY\" not in os.environ:\n",
    "    os.environ[\"OPENAI_API_KEY\"] = getpass(\"Enter your API key: \")"
   ]
  },
  {
   "cell_type": "code",
   "execution_count": 6,
   "metadata": {},
   "outputs": [],
   "source": [
    "# Get instance of OpenAI Chat LLM service\n",
    "from bodhilib import get_llm\n",
    "\n",
    "llm = get_llm(\"openai_chat\", model=\"gpt-3.5-turbo\")"
   ]
  },
  {
   "cell_type": "code",
   "execution_count": 7,
   "metadata": {},
   "outputs": [
    {
     "name": "stdout",
     "output_type": "stream",
     "text": [
      "> The Avengers: End Game is the best super-hero movie of all times. Do you agree?\n",
      "\n",
      "As an AI, I don't have personal opinions. However, Avengers: Endgame has been widely praised by both\n",
      "critics and audiences and has emerged as one of the highest-grossing films of all time. Many fans\n",
      "consider it to be one of the best superhero movies ever made due to its epic conclusion to the\n",
      "Marvel Cinematic Universe's Infinity Saga. However, opinions on the best superhero movie can vary\n",
      "depending on personal preferences and individual tastes.\n",
      "---\n",
      "> The Justice League is the best super-hero movie of all times. Do you agree?\n",
      "\n",
      "As an AI, I don't have personal opinions. However, the statement you made is subjective and can vary\n",
      "from person to person. Different individuals might have different preferences, and what might be the\n",
      "best superhero movie for one person might not be the same for another. While some people might\n",
      "consider The Justice League to be the best superhero movie of all time, others may have different\n",
      "opinions and favorite films within the genre.\n",
      "---\n",
      "> The The Dark Knight is the best super-hero movie of all times. Do you agree?\n",
      "\n",
      "As an AI, I don't have personal opinions or preferences. However, \"The Dark Knight\" is widely\n",
      "regarded as one of the best superhero movies of all time by both critics and audiences. Its gripping\n",
      "story, complex characters, exceptional performances, and masterful direction by Christopher Nolan\n",
      "have made it a standout film in the genre. However, opinions on the best superhero movie may vary\n",
      "among individuals based on their personal preferences and tastes.\n",
      "---\n"
     ]
    }
   ],
   "source": [
    "import textwrap\n",
    "\n",
    "# Use the PromptTemplate `to_prompts` method to generate the prompts\n",
    "for option in options:\n",
    "    prompts = template.to_prompts(movie=option)\n",
    "    response = llm.generate(prompts)\n",
    "    print(f\"> {prompts[0].text}\\n\")\n",
    "    print(textwrap.fill(response.text, 100))\n",
    "    print(\"---\")"
   ]
  },
  {
   "cell_type": "markdown",
   "metadata": {},
   "source": [
    "---\n",
    "\n",
    "🎉 We just generated response from LLM using our dynamically generated prompts using PromptTemplate.\n",
    "\n",
    "Next, let's look at generating a more complex prompt that involves looping through options to generate a Prompt. We will use `jinja2` format to create this complex prompt."
   ]
  },
  {
   "cell_type": "code",
   "execution_count": 8,
   "metadata": {},
   "outputs": [],
   "source": [
    "template = \"\"\"\n",
    "Which is the best super-hero movie of all times from among the options below? and why?\n",
    "\n",
    "{% for option in options -%}\n",
    "{{ loop.index }}. {{ option }}\n",
    "{% endfor -%}\n",
    "\"\"\"\n",
    "template = PromptTemplate(template=template, format=\"jinja2\")"
   ]
  },
  {
   "cell_type": "code",
   "execution_count": 9,
   "metadata": {},
   "outputs": [
    {
     "name": "stdout",
     "output_type": "stream",
     "text": [
      "\n",
      "Which is the best super-hero movie of all times from among the options below? and why?\n",
      "\n",
      "1. Avengers: End Game\n",
      "2. Justice League\n",
      "3. The Dark Knight\n",
      "\n"
     ]
    }
   ],
   "source": [
    "prompts = template.to_prompts(options=options)\n",
    "print(prompts[0].text)"
   ]
  },
  {
   "cell_type": "markdown",
   "metadata": {},
   "source": [
    "Let's see what our LLM model thinks about the above. Let's pass the prompts to LLM service and get the response."
   ]
  },
  {
   "cell_type": "code",
   "execution_count": 10,
   "metadata": {},
   "outputs": [
    {
     "name": "stdout",
     "output_type": "stream",
     "text": [
      "As an AI language model, I don't have personal opinions or preferences. However, \"The Dark Knight\"\n",
      "is often considered one of the best superhero movies of all time by both critics and audiences. This\n",
      "film, directed by Christopher Nolan and starring Christian Bale as Batman, was praised for its dark\n",
      "and gritty tone, complex characters, and excellent performances, particularly Heath Ledger's\n",
      "portrayal of the Joker. It also received critical acclaim for its screenplay, direction, and\n",
      "cinematography. However, opinions on the best superhero movie may vary, as different people have\n",
      "different preferences.\n"
     ]
    }
   ],
   "source": [
    "import textwrap\n",
    "\n",
    "response = llm.generate(prompts)\n",
    "print(textwrap.fill(response.text, 100))"
   ]
  },
  {
   "cell_type": "markdown",
   "metadata": {},
   "source": [
    "---\n",
    "\n",
    "🎉 Yay! we have our our first response from LLM using a complex dynamic prompt generated using `jinja2` template.\n",
    "\n",
    "Next, let's see how we can find the right prompt template for our use case using [PromptSource](PromptSource.ipynb)."
   ]
  }
 ],
 "metadata": {
  "kernelspec": {
   "display_name": "bodhi-guide",
   "language": "python",
   "name": "python3"
  },
  "language_info": {
   "codemirror_mode": {
    "name": "ipython",
    "version": 3
   },
   "file_extension": ".py",
   "mimetype": "text/x-python",
   "name": "python",
   "nbconvert_exporter": "python",
   "pygments_lexer": "ipython3",
   "version": "3.11.5"
  },
  "orig_nbformat": 4
 },
 "nbformat": 4,
 "nbformat_minor": 2
}
