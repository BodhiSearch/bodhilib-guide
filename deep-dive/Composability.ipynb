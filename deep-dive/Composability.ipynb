{
 "cells": [
  {
   "cell_type": "markdown",
   "metadata": {},
   "source": [
    "## Composability (WIP)\n",
    "\n",
    "`bodhilib` library is designed with composability in mind. It takes many ideas from strict functional languages like `Haskell` to design and implement its interface.\n",
    "\n",
    "Using the bodhilib library, you can simplify the ingestion phase of your RAG process as follows:"
   ]
  },
  {
   "cell_type": "code",
   "execution_count": null,
   "metadata": {},
   "outputs": [],
   "source": [
    "from fn import F # fn.py library\n",
    "\n",
    "data_loader = get_data_loader(\"file\")\n",
    "spitter = get_splitter(\"sentence_splitter\")\n",
    "embedder = get_embedder(\"sentence_embedder\")\n",
    "vector_db = get_vector_db(\"qdrant\", location=\":memory:\")\n",
    "\n",
    "data_loader.add_resource(dir=\"./data\")\n",
    "data = data_loader.load()\n",
    "\n",
    "result = F(data_loader.load) \n",
    "    >> F(splitter.split) \n",
    "    >> F(embedder.embed) \n",
    "    >> F(vector_db.upsert)"
   ]
  },
  {
   "cell_type": "markdown",
   "metadata": {},
   "source": [
    "And to query your VectorDB, you can compose it like:"
   ]
  },
  {
   "cell_type": "code",
   "execution_count": null,
   "metadata": {},
   "outputs": [],
   "source": [
    "query = \"Who is the CEO of SpaceX?\"\n",
    "template = get_prompt_source(\"bodhiprompts\").find(\"extractive_qna\")\n",
    "\n",
    "answer = (\n",
    "    query\n",
    "    >> F(embedder.embed)\n",
    "    >> F(partial(vector_db.query, \"articles_collection\"))\n",
    "    >> F(lambda nodes: [node.text for node in nodes])\n",
    "    >> F(lambda nodes: {\"context\": \"\\n\\n\".join(nodes)})\n",
    "    >> F(partial(template.to_prompt, query = query))\n",
    "    >> F(llm.generate)\n",
    ")\n"
   ]
  }
 ],
 "metadata": {
  "language_info": {
   "name": "python"
  },
  "orig_nbformat": 4
 },
 "nbformat": 4,
 "nbformat_minor": 2
}
