{
 "cells": [
  {
   "cell_type": "markdown",
   "metadata": {
    "editable": true,
    "slideshow": {
     "slide_type": ""
    },
    "tags": []
   },
   "source": [
    "# Bodhilib - Welcome: What? Why? Quick start."
   ]
  },
  {
   "cell_type": "markdown",
   "metadata": {},
   "source": [
    "[bodhilib](https://github.com/BodhiSearch/bodhilib) is a plugin architecture based python library to interface with Large Language Models (LLMs) and build apps using Semantic Search/Retrieval Augmented Generation."
   ]
  },
  {
   "cell_type": "markdown",
   "metadata": {},
   "source": [
    "## Why?\n",
    "\n",
    "Main advantages of using bodhilib:\n",
    "\n",
    "1. Open Source\n",
    "1. Built on plugin architecture\n",
    "1. Well thought core design\n",
    "1. Pythonic interfaces\n",
    "1. No walled-garden approach/No-plus offering\n",
    "1. Truly composible design inspired from Haskell and other functional languages\n",
    "1. Built on principle of not-reinventing the wheel\n",
    "1. Very slim, lightweight core library with core interfaces\n",
    "1. Plugin architecture to support features and capabilities\n",
    "1. `bodhiext.*` packages - plugins built by the **bodhilib** team to extend the capabilities\n",
    "1. Easy to extend for your use-case\n"
   ]
  },
  {
   "cell_type": "markdown",
   "metadata": {},
   "source": [
    "## `bodhiext.*` packages\n",
    "\n",
    "`bodhiext.*` packages adds capabilities to the **bodhilib**. \n",
    "\n",
    "Using the available extensions, you can add support for -\n",
    "1. Data loading from frequently accessed resources, e.g. text files, pdf, web, airtable, notion etc.\n",
    "1. Most frequently used Data splitters, e.g. Sentence splitter, Token splitter etc.\n",
    "1. Interface with most of the popular LLM APIs. e.g. OpenAI, Cohere, Huggingface, Anthropic etc.\n",
    "1. Interface with most of the popular Vector DBs. e.g. Qdrant, Pinecone, Chroma, FAISS, Milvus, Weaviate etc.\n",
    "1. Interface with most of the popular Embedding APIs. e.g. OpenAI, Cohere, sentence-transformers, huggingface etc."
   ]
  },
  {
   "cell_type": "markdown",
   "metadata": {},
   "source": [
    "# Quick Start\n",
    "\n",
    "To get started with bodhilib, install it via pip -\n",
    "\n",
    "```shell\n",
    "pip install bodhilib\n",
    "```"
   ]
  },
  {
   "cell_type": "code",
   "execution_count": null,
   "metadata": {},
   "outputs": [],
   "source": [
    "# or execute the cell in notebook\n",
    "!pip install bodhilib"
   ]
  },
  {
   "cell_type": "markdown",
   "metadata": {},
   "source": [
    "## Environment Setup\n",
    "\n",
    "In case you want to use OpenAI as your LLM, setup your API keys in your python code -\n",
    "\n",
    "```python\n",
    "```"
   ]
  },
  {
   "cell_type": "code",
   "execution_count": 2,
   "metadata": {},
   "outputs": [],
   "source": [
    "import os\n",
    "\n",
    "os.environ['OPENAI_API_KEY'] = \"\" #@param"
   ]
  },
  {
   "cell_type": "markdown",
   "metadata": {},
   "source": [
    "## `bodhiext.openai`\n",
    "\n",
    "To add the capabilities to interact with OpenAI, you need to install the plugin extension `bodhiext.openai`. Install it via pip -\n",
    "\n",
    "```shell\n",
    "pip install bodhiext.openai\n",
    "```"
   ]
  },
  {
   "cell_type": "markdown",
   "metadata": {},
   "source": [
    "## Call the OpenAI Chat GPT\n",
    "\n",
    "To call the OpenAI, we retrieve the LLM service using `get_llm`, and then simply pass our query to the service using the `generate` method."
   ]
  },
  {
   "cell_type": "code",
   "execution_count": null,
   "metadata": {},
   "outputs": [],
   "source": [
    "from bodhilib import get_llm\n",
    "\n",
    "llm = get_llm(\"openai-chat\", \"gpt-3.5-turbo\")\n",
    "response = llm.generate(\"What day comes after Monday?\")\n",
    "print(response)"
   ]
  }
 ],
 "metadata": {
  "kernelspec": {
   "display_name": "Python 3 (ipykernel)",
   "language": "python",
   "name": "python3"
  },
  "language_info": {
   "codemirror_mode": {
    "name": "ipython",
    "version": 3
   },
   "file_extension": ".py",
   "mimetype": "text/x-python",
   "name": "python",
   "nbconvert_exporter": "python",
   "pygments_lexer": "ipython3",
   "version": "3.11.5"
  },
  "nbsphinx": {
   "execute": "never"
  }
 },
 "nbformat": 4,
 "nbformat_minor": 4
}
