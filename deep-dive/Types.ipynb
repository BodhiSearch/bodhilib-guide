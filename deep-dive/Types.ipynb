{
 "cells": [
  {
   "cell_type": "markdown",
   "metadata": {},
   "source": [
    "# Types\n",
    "\n"
   ]
  },
  {
   "cell_type": "markdown",
   "metadata": {},
   "source": [
    "# Flexible Input\n",
    "\n",
    "`bodhilib` defines a set of very flexible TypeAlias to hint at the type of inputs that can be taken by the method. \n",
    "\n",
    "This allows a method to take in various types of valid inputs, that are internally converted to a standard input format, before being processed. This approach allows extremem composability of methods, and allowing easy building of complex flows.\n",
    "\n",
    "## SupportsText\n",
    "SupportsText is a Python protocol. This protocol enforces a Python object to have a property `text` with a type of `str`. This way, any object that has such property can be passed whenever a SupportsText type is expected.\n",
    "\n",
    "```python\n",
    "class SupportsText(Protocol):\n",
    "    @property\n",
    "    def text(self) -> str: ...\n",
    "```\n",
    "\n",
    "Many of the Python models conforms to SupportsText. These are - Prompt, PromptStream, Node, Document.\n",
    "\n",
    "## TextLike\n",
    "\n",
    "TextLike extends the SupportsText by also including plain strings as a input type.\n",
    "\n",
    "```python\n",
    "TextLike: TypeAlias = Union[str, \"SupportsText\"]\n",
    "```\n",
    "\n",
    "## TextLikeOrTextLikeList\n",
    "\n",
    "TextLikeOrTextLikeList extends TextLike by also including list of TextLike as a input type.\n",
    "\n",
    "```python\n",
    "TextLikeOrTextLikeList: TypeAlias = Union[TextLike, Iterable[TextLike]]\n",
    "```\n",
    "\n",
    "## SerializedInput\n",
    "\n",
    "SerializedInput extends TextLikeOrTextLikeList by also including a serialized object as dict or a list of serialized object as dict as input type. These are handy when serialized Pydantic object are passed as input.\n",
    "\n",
    "```python\n",
    "SerializedInput: TypeAlias = Union[TextLikeOrTextLikeList, Dict[str, Any], Iterable[Dict[str, Any]]]\n",
    "```"
   ]
  },
  {
   "cell_type": "markdown",
   "metadata": {},
   "source": [
    "---\n",
    "🎉 We just got familiar with the types of bodhilib.\n",
    "\n",
    "Next, let’s see different [Models](Models.ipynb) used in the library."
   ]
  }
 ],
 "metadata": {
  "language_info": {
   "name": "python"
  },
  "orig_nbformat": 4
 },
 "nbformat": 4,
 "nbformat_minor": 2
}
